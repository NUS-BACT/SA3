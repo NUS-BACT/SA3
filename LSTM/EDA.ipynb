{
 "cells": [
  {
   "cell_type": "code",
   "execution_count": 1,
   "metadata": {},
   "outputs": [],
   "source": [
    "import pandas as pd\n",
    "\n",
    "fake = pd.read_csv('Fake.csv')\n",
    "true = pd.read_csv('True.csv')"
   ]
  },
  {
   "cell_type": "code",
   "execution_count": 2,
   "metadata": {},
   "outputs": [
    {
     "data": {
      "text/html": [
       "<div>\n",
       "<style scoped>\n",
       "    .dataframe tbody tr th:only-of-type {\n",
       "        vertical-align: middle;\n",
       "    }\n",
       "\n",
       "    .dataframe tbody tr th {\n",
       "        vertical-align: top;\n",
       "    }\n",
       "\n",
       "    .dataframe thead th {\n",
       "        text-align: right;\n",
       "    }\n",
       "</style>\n",
       "<table border=\"1\" class=\"dataframe\">\n",
       "  <thead>\n",
       "    <tr style=\"text-align: right;\">\n",
       "      <th></th>\n",
       "      <th>title</th>\n",
       "      <th>text</th>\n",
       "      <th>subject</th>\n",
       "      <th>date</th>\n",
       "    </tr>\n",
       "  </thead>\n",
       "  <tbody>\n",
       "    <tr>\n",
       "      <th>0</th>\n",
       "      <td>Donald Trump Sends Out Embarrassing New Year’...</td>\n",
       "      <td>Donald Trump just couldn t wish all Americans ...</td>\n",
       "      <td>News</td>\n",
       "      <td>December 31, 2017</td>\n",
       "    </tr>\n",
       "    <tr>\n",
       "      <th>1</th>\n",
       "      <td>Drunk Bragging Trump Staffer Started Russian ...</td>\n",
       "      <td>House Intelligence Committee Chairman Devin Nu...</td>\n",
       "      <td>News</td>\n",
       "      <td>December 31, 2017</td>\n",
       "    </tr>\n",
       "    <tr>\n",
       "      <th>2</th>\n",
       "      <td>Sheriff David Clarke Becomes An Internet Joke...</td>\n",
       "      <td>On Friday, it was revealed that former Milwauk...</td>\n",
       "      <td>News</td>\n",
       "      <td>December 30, 2017</td>\n",
       "    </tr>\n",
       "    <tr>\n",
       "      <th>3</th>\n",
       "      <td>Trump Is So Obsessed He Even Has Obama’s Name...</td>\n",
       "      <td>On Christmas day, Donald Trump announced that ...</td>\n",
       "      <td>News</td>\n",
       "      <td>December 29, 2017</td>\n",
       "    </tr>\n",
       "    <tr>\n",
       "      <th>4</th>\n",
       "      <td>Pope Francis Just Called Out Donald Trump Dur...</td>\n",
       "      <td>Pope Francis used his annual Christmas Day mes...</td>\n",
       "      <td>News</td>\n",
       "      <td>December 25, 2017</td>\n",
       "    </tr>\n",
       "    <tr>\n",
       "      <th>...</th>\n",
       "      <td>...</td>\n",
       "      <td>...</td>\n",
       "      <td>...</td>\n",
       "      <td>...</td>\n",
       "    </tr>\n",
       "    <tr>\n",
       "      <th>23476</th>\n",
       "      <td>McPain: John McCain Furious That Iran Treated ...</td>\n",
       "      <td>21st Century Wire says As 21WIRE reported earl...</td>\n",
       "      <td>Middle-east</td>\n",
       "      <td>January 16, 2016</td>\n",
       "    </tr>\n",
       "    <tr>\n",
       "      <th>23477</th>\n",
       "      <td>JUSTICE? Yahoo Settles E-mail Privacy Class-ac...</td>\n",
       "      <td>21st Century Wire says It s a familiar theme. ...</td>\n",
       "      <td>Middle-east</td>\n",
       "      <td>January 16, 2016</td>\n",
       "    </tr>\n",
       "    <tr>\n",
       "      <th>23478</th>\n",
       "      <td>Sunnistan: US and Allied ‘Safe Zone’ Plan to T...</td>\n",
       "      <td>Patrick Henningsen  21st Century WireRemember ...</td>\n",
       "      <td>Middle-east</td>\n",
       "      <td>January 15, 2016</td>\n",
       "    </tr>\n",
       "    <tr>\n",
       "      <th>23479</th>\n",
       "      <td>How to Blow $700 Million: Al Jazeera America F...</td>\n",
       "      <td>21st Century Wire says Al Jazeera America will...</td>\n",
       "      <td>Middle-east</td>\n",
       "      <td>January 14, 2016</td>\n",
       "    </tr>\n",
       "    <tr>\n",
       "      <th>23480</th>\n",
       "      <td>10 U.S. Navy Sailors Held by Iranian Military ...</td>\n",
       "      <td>21st Century Wire says As 21WIRE predicted in ...</td>\n",
       "      <td>Middle-east</td>\n",
       "      <td>January 12, 2016</td>\n",
       "    </tr>\n",
       "  </tbody>\n",
       "</table>\n",
       "<p>23481 rows × 4 columns</p>\n",
       "</div>"
      ],
      "text/plain": [
       "                                                   title  \\\n",
       "0       Donald Trump Sends Out Embarrassing New Year’...   \n",
       "1       Drunk Bragging Trump Staffer Started Russian ...   \n",
       "2       Sheriff David Clarke Becomes An Internet Joke...   \n",
       "3       Trump Is So Obsessed He Even Has Obama’s Name...   \n",
       "4       Pope Francis Just Called Out Donald Trump Dur...   \n",
       "...                                                  ...   \n",
       "23476  McPain: John McCain Furious That Iran Treated ...   \n",
       "23477  JUSTICE? Yahoo Settles E-mail Privacy Class-ac...   \n",
       "23478  Sunnistan: US and Allied ‘Safe Zone’ Plan to T...   \n",
       "23479  How to Blow $700 Million: Al Jazeera America F...   \n",
       "23480  10 U.S. Navy Sailors Held by Iranian Military ...   \n",
       "\n",
       "                                                    text      subject  \\\n",
       "0      Donald Trump just couldn t wish all Americans ...         News   \n",
       "1      House Intelligence Committee Chairman Devin Nu...         News   \n",
       "2      On Friday, it was revealed that former Milwauk...         News   \n",
       "3      On Christmas day, Donald Trump announced that ...         News   \n",
       "4      Pope Francis used his annual Christmas Day mes...         News   \n",
       "...                                                  ...          ...   \n",
       "23476  21st Century Wire says As 21WIRE reported earl...  Middle-east   \n",
       "23477  21st Century Wire says It s a familiar theme. ...  Middle-east   \n",
       "23478  Patrick Henningsen  21st Century WireRemember ...  Middle-east   \n",
       "23479  21st Century Wire says Al Jazeera America will...  Middle-east   \n",
       "23480  21st Century Wire says As 21WIRE predicted in ...  Middle-east   \n",
       "\n",
       "                    date  \n",
       "0      December 31, 2017  \n",
       "1      December 31, 2017  \n",
       "2      December 30, 2017  \n",
       "3      December 29, 2017  \n",
       "4      December 25, 2017  \n",
       "...                  ...  \n",
       "23476   January 16, 2016  \n",
       "23477   January 16, 2016  \n",
       "23478   January 15, 2016  \n",
       "23479   January 14, 2016  \n",
       "23480   January 12, 2016  \n",
       "\n",
       "[23481 rows x 4 columns]"
      ]
     },
     "metadata": {},
     "output_type": "display_data"
    },
    {
     "data": {
      "text/html": [
       "<div>\n",
       "<style scoped>\n",
       "    .dataframe tbody tr th:only-of-type {\n",
       "        vertical-align: middle;\n",
       "    }\n",
       "\n",
       "    .dataframe tbody tr th {\n",
       "        vertical-align: top;\n",
       "    }\n",
       "\n",
       "    .dataframe thead th {\n",
       "        text-align: right;\n",
       "    }\n",
       "</style>\n",
       "<table border=\"1\" class=\"dataframe\">\n",
       "  <thead>\n",
       "    <tr style=\"text-align: right;\">\n",
       "      <th></th>\n",
       "      <th>title</th>\n",
       "      <th>text</th>\n",
       "      <th>subject</th>\n",
       "      <th>date</th>\n",
       "    </tr>\n",
       "  </thead>\n",
       "  <tbody>\n",
       "    <tr>\n",
       "      <th>0</th>\n",
       "      <td>As U.S. budget fight looms, Republicans flip t...</td>\n",
       "      <td>WASHINGTON (Reuters) - The head of a conservat...</td>\n",
       "      <td>politicsNews</td>\n",
       "      <td>December 31, 2017</td>\n",
       "    </tr>\n",
       "    <tr>\n",
       "      <th>1</th>\n",
       "      <td>U.S. military to accept transgender recruits o...</td>\n",
       "      <td>WASHINGTON (Reuters) - Transgender people will...</td>\n",
       "      <td>politicsNews</td>\n",
       "      <td>December 29, 2017</td>\n",
       "    </tr>\n",
       "    <tr>\n",
       "      <th>2</th>\n",
       "      <td>Senior U.S. Republican senator: 'Let Mr. Muell...</td>\n",
       "      <td>WASHINGTON (Reuters) - The special counsel inv...</td>\n",
       "      <td>politicsNews</td>\n",
       "      <td>December 31, 2017</td>\n",
       "    </tr>\n",
       "    <tr>\n",
       "      <th>3</th>\n",
       "      <td>FBI Russia probe helped by Australian diplomat...</td>\n",
       "      <td>WASHINGTON (Reuters) - Trump campaign adviser ...</td>\n",
       "      <td>politicsNews</td>\n",
       "      <td>December 30, 2017</td>\n",
       "    </tr>\n",
       "    <tr>\n",
       "      <th>4</th>\n",
       "      <td>Trump wants Postal Service to charge 'much mor...</td>\n",
       "      <td>SEATTLE/WASHINGTON (Reuters) - President Donal...</td>\n",
       "      <td>politicsNews</td>\n",
       "      <td>December 29, 2017</td>\n",
       "    </tr>\n",
       "    <tr>\n",
       "      <th>...</th>\n",
       "      <td>...</td>\n",
       "      <td>...</td>\n",
       "      <td>...</td>\n",
       "      <td>...</td>\n",
       "    </tr>\n",
       "    <tr>\n",
       "      <th>21412</th>\n",
       "      <td>'Fully committed' NATO backs new U.S. approach...</td>\n",
       "      <td>BRUSSELS (Reuters) - NATO allies on Tuesday we...</td>\n",
       "      <td>worldnews</td>\n",
       "      <td>August 22, 2017</td>\n",
       "    </tr>\n",
       "    <tr>\n",
       "      <th>21413</th>\n",
       "      <td>LexisNexis withdrew two products from Chinese ...</td>\n",
       "      <td>LONDON (Reuters) - LexisNexis, a provider of l...</td>\n",
       "      <td>worldnews</td>\n",
       "      <td>August 22, 2017</td>\n",
       "    </tr>\n",
       "    <tr>\n",
       "      <th>21414</th>\n",
       "      <td>Minsk cultural hub becomes haven from authorities</td>\n",
       "      <td>MINSK (Reuters) - In the shadow of disused Sov...</td>\n",
       "      <td>worldnews</td>\n",
       "      <td>August 22, 2017</td>\n",
       "    </tr>\n",
       "    <tr>\n",
       "      <th>21415</th>\n",
       "      <td>Vatican upbeat on possibility of Pope Francis ...</td>\n",
       "      <td>MOSCOW (Reuters) - Vatican Secretary of State ...</td>\n",
       "      <td>worldnews</td>\n",
       "      <td>August 22, 2017</td>\n",
       "    </tr>\n",
       "    <tr>\n",
       "      <th>21416</th>\n",
       "      <td>Indonesia to buy $1.14 billion worth of Russia...</td>\n",
       "      <td>JAKARTA (Reuters) - Indonesia will buy 11 Sukh...</td>\n",
       "      <td>worldnews</td>\n",
       "      <td>August 22, 2017</td>\n",
       "    </tr>\n",
       "  </tbody>\n",
       "</table>\n",
       "<p>21417 rows × 4 columns</p>\n",
       "</div>"
      ],
      "text/plain": [
       "                                                   title  \\\n",
       "0      As U.S. budget fight looms, Republicans flip t...   \n",
       "1      U.S. military to accept transgender recruits o...   \n",
       "2      Senior U.S. Republican senator: 'Let Mr. Muell...   \n",
       "3      FBI Russia probe helped by Australian diplomat...   \n",
       "4      Trump wants Postal Service to charge 'much mor...   \n",
       "...                                                  ...   \n",
       "21412  'Fully committed' NATO backs new U.S. approach...   \n",
       "21413  LexisNexis withdrew two products from Chinese ...   \n",
       "21414  Minsk cultural hub becomes haven from authorities   \n",
       "21415  Vatican upbeat on possibility of Pope Francis ...   \n",
       "21416  Indonesia to buy $1.14 billion worth of Russia...   \n",
       "\n",
       "                                                    text       subject  \\\n",
       "0      WASHINGTON (Reuters) - The head of a conservat...  politicsNews   \n",
       "1      WASHINGTON (Reuters) - Transgender people will...  politicsNews   \n",
       "2      WASHINGTON (Reuters) - The special counsel inv...  politicsNews   \n",
       "3      WASHINGTON (Reuters) - Trump campaign adviser ...  politicsNews   \n",
       "4      SEATTLE/WASHINGTON (Reuters) - President Donal...  politicsNews   \n",
       "...                                                  ...           ...   \n",
       "21412  BRUSSELS (Reuters) - NATO allies on Tuesday we...     worldnews   \n",
       "21413  LONDON (Reuters) - LexisNexis, a provider of l...     worldnews   \n",
       "21414  MINSK (Reuters) - In the shadow of disused Sov...     worldnews   \n",
       "21415  MOSCOW (Reuters) - Vatican Secretary of State ...     worldnews   \n",
       "21416  JAKARTA (Reuters) - Indonesia will buy 11 Sukh...     worldnews   \n",
       "\n",
       "                     date  \n",
       "0      December 31, 2017   \n",
       "1      December 29, 2017   \n",
       "2      December 31, 2017   \n",
       "3      December 30, 2017   \n",
       "4      December 29, 2017   \n",
       "...                   ...  \n",
       "21412    August 22, 2017   \n",
       "21413    August 22, 2017   \n",
       "21414    August 22, 2017   \n",
       "21415    August 22, 2017   \n",
       "21416    August 22, 2017   \n",
       "\n",
       "[21417 rows x 4 columns]"
      ]
     },
     "metadata": {},
     "output_type": "display_data"
    }
   ],
   "source": [
    "display(fake)\n",
    "display(true)"
   ]
  },
  {
   "cell_type": "markdown",
   "metadata": {},
   "source": [
    "Encoding Error"
   ]
  },
  {
   "cell_type": "code",
   "execution_count": 3,
   "metadata": {},
   "outputs": [
    {
     "name": "stdout",
     "output_type": "stream",
     "text": [
      "1092\n"
     ]
    },
    {
     "data": {
      "text/plain": [
       "array(['WASHINGTON (Reuters) - Members of the U.S. House Intelligence Committee on Thursday interviewed the head of a data analysis firm to determine whether Donald Trump’s election campaign team sought his help to find thousands of emails missing from Hillary Clinton’s private server, three sources familiar with the session said. Trump’s campaign hired Alexander Nix and the company, Cambridge Analytica, in June 2016 and paid it more than $6.2 million through last December, according to Federal Election Commission records. The month after his firm was hired, Nix emailed WikiLeaks founder Julian Assange for help tracking down some 33,000 emails that Clinton supposedly had deleted from her private server, the Daily Beast and The Wall Street Journal reported in October. Nix wanted to convert the missing and potentially damaging emails into a searchable database for use by the Trump campaign or a pro-Trump political action committee, the Journal reported.  WikiLeaks confirmed to Reuters on Thursday that it was approached by Nix, but a representative said it turned down his request.     The intelligence committee is investigating possible collusion between Trump’s campaign team and Russia during the 2016 election. The matter is also being investigated by Special Counsel Robert Mueller and three other congressional committees. Russia has denied meddling in the election, and Trump has said there was no collusion between Moscow and his campaign.   Representatives Elijah Cummings and Jerrold Nadler, the top Democrats on the House Oversight and Judiciary committees, on Thursday asked their Republican committee chairmen to issue subpoenas for documents from Cambridge Analytica and Giles-Parscale, another data analysis firm that worked for the Trump campaign. Spokesmen for Cambridge Analytica and Giles-Parscale did not immediately respond to emails requesting comment.\\xa0         Cummings and Nadler said they sent their letter after the two companies declined to answer questions about whether they had contacts with foreign actors during the 2016 presidential campaign. The sources said the intelligence committee members met at a Washington law office on Thursday to conduct the interview with Nix by Skype because he was not in the United States. The sources said the interview lasted some 90 minutes. The CIA, Federal Bureau of Investigation and the National Security Agency said in January that Russia used propaganda, social media and other means to meddle in the 2016 election to try to help Trump defeat Clinton.         In their report, the agencies said Russian intelligence services hacked emails and other documents from the Democratic National Committee and other Democratic Party organizations, and used Wikileaks to release them.  '],\n",
       "      dtype=object)"
      ]
     },
     "execution_count": 3,
     "metadata": {},
     "output_type": "execute_result"
    }
   ],
   "source": [
    "encodingerror = true['text'].loc[true['text'].str.contains('\\xa0')]\n",
    "print(len(encodingerror))\n",
    "encodingerror.sample(1).values"
   ]
  },
  {
   "cell_type": "code",
   "execution_count": 4,
   "metadata": {},
   "outputs": [
    {
     "name": "stderr",
     "output_type": "stream",
     "text": [
      "C:\\Users\\jonat\\AppData\\Local\\Temp/ipykernel_13080/2061056946.py:1: FutureWarning: The default value of regex will change from True to False in a future version.\n",
      "  true['text'].str.replace(r'\\xa0', \" \")\n"
     ]
    },
    {
     "data": {
      "text/plain": [
       "'NORRISTOWN, Pa. (Reuters) - Former Pennsylvania Attorney General Kathleen Kane was sentenced on Monday to serve 10 to 23 months in county jail for leaking confidential grand jury information and then lying about it to investigators. Kane, 50, the first woman and first Democrat ever elected Pennsylvania attorney general, was convicted in August on charges of perjury, false swearing, obstruction of justice, official oppression and conspiracy. She resigned two days after the jury in Montgomery County Court of Common Pleas handed down its verdict. In addition, Judge Wendy Demchick-Alloy sentenced Kane to eight years of probation. “A lesser sentence will depreciate the seriousness of the crimes of this defendant,” she said.  Kane, who intends to appeal her conviction, had faced a maximum sentence of 24 years in state prison. Her lawyer, Marc Steinberg, was not available to comment after the hearing. Kane was accused of giving information from a grand jury proceeding in 2013 to a Philadelphia Daily News reporter to retaliate against a former state prosecutor, Frank Fina. She believed he had told the Philadelphia Inquirer about her decision to drop prosecution of a case Fina had developed against six black Democratic legislators in Philadelphia. Grand juries play an important role in the U.S. criminal justice system by deciding if a prosecutor has enough evidence to bring charges against a suspect. Secret deliberations encourage witnesses to speak without fear of retaliation and to protect the reputation of suspects when the jury decides against recommending charges. Witnesses for the prosecution said the Kane investigation had brought havoc to the attorney general’s office. “Today is another sad day for the Commonwealth and its citizens,” Bruce Beemer, who replaced Kane, said in a statement after the sentencing.  “The Office of Attorney General is moving forward with steps to restore the public’s confidence in the work that we do and the way that we do it,” he said without specifying his office’s plans. Kane is the second Pennsylvania attorney general in the past quarter-century to be convicted of crimes committed in office. In 1995, Attorney\\xa0General Ernie Preate pleaded guilty to mail fraud and served a prison sentence. More than 25 friends and members of Kane’s family attended the hearing to show support. Several, including Kane’s son Christopher, 15, testified as character witnesses on her behalf. Frank DeAndrea, a former police chief of Hazleton, told the judge that sending Kane to prison could amount to a death sentence if drug lords she helped convict retaliate.  Demchick-Alloy said Kane had assumed that risk when she decided to commit crimes. '"
      ]
     },
     "execution_count": 4,
     "metadata": {},
     "output_type": "execute_result"
    }
   ],
   "source": [
    "true['text'].str.replace(r'\\xa0', \" \")\n",
    "true['text'].iloc[7717]"
   ]
  },
  {
   "cell_type": "markdown",
   "metadata": {},
   "source": [
    "Shortened Links"
   ]
  },
  {
   "cell_type": "code",
   "execution_count": 5,
   "metadata": {},
   "outputs": [
    {
     "name": "stdout",
     "output_type": "stream",
     "text": [
      "170\n"
     ]
    },
    {
     "data": {
      "text/plain": [
       "array(['The following statements\\xa0were posted to the verified Twitter accounts of U.S. President Donald Trump, @realDonaldTrump and @POTUS.  The opinions expressed are his own.\\xa0Reuters has not edited the statements or confirmed their accuracy.  @realDonaldTrump : - I explained to the President of China that a trade deal with the U.S. will be far better for them if they solve the North Korean problem![759 EST]  - North Korea is looking for trouble. If China decides to help, that would be great. If not, we will solve the problem without them!  U.S.A. [803 EST] -- Source link: (bit.ly/2jBh4LU) (bit.ly/2jpEXYR) '],\n",
       "      dtype=object)"
      ]
     },
     "execution_count": 5,
     "metadata": {},
     "output_type": "execute_result"
    }
   ],
   "source": [
    "links = true['text'].loc[true['text'].str.contains('bit.ly')]\n",
    "print(len(links))\n",
    "links.sample(1).values"
   ]
  },
  {
   "cell_type": "markdown",
   "metadata": {},
   "source": [
    "Twitter Handles"
   ]
  },
  {
   "cell_type": "code",
   "execution_count": 6,
   "metadata": {},
   "outputs": [
    {
     "name": "stdout",
     "output_type": "stream",
     "text": [
      "281\n"
     ]
    },
    {
     "data": {
      "text/plain": [
       "array(['WASHINGTON (Reuters) - The U.S. State Department on Friday handed over more than 1,100 pages of records to the committee investigating the deaths of U.S. citizens in Benghazi, Libya on Sept. 11, 2012, the chairman of the House of Representatives panel said. The records included files from senior employees during the time Democratic presidential candidate Hillary Clinton was secretary of state, according to a statement by Select Committee on Benghazi Chairman Trey Gowdy. <bit.ly/1VbDyTc> “It is deplorable that it took over a year for these records to be produced to our committee, and that our Democrat colleagues never lifted a finger to help us get them,” Gowdy, a Republican, said in the statement. Democrats have complained since the investigation began that the panel is a partisan project bent on hurting Clinton’s candidacy. '],\n",
       "      dtype=object)"
      ]
     },
     "execution_count": 6,
     "metadata": {},
     "output_type": "execute_result"
    }
   ],
   "source": [
    "twitter = true['text'].loc[true['text'].str.contains('@\\w+')]\n",
    "print(len(twitter))\n",
    "links.sample(1).values"
   ]
  },
  {
   "cell_type": "markdown",
   "metadata": {},
   "source": [
    "Timestamps\n"
   ]
  },
  {
   "cell_type": "code",
   "execution_count": 8,
   "metadata": {},
   "outputs": [
    {
     "name": "stdout",
     "output_type": "stream",
     "text": [
      "100\n"
     ]
    },
    {
     "data": {
      "text/plain": [
       "array(['The following statements\\xa0were posted to the verified Twitter accounts of U.S. President Donald Trump, @realDonaldTrump and @POTUS.  The opinions expressed are his own.\\xa0Reuters has not edited the statements or confirmed their accuracy.  @realDonaldTrump : -Stock market hits new high with longest winning streak in decades. Great level of confidence and optimism - even before tax plan rollout! [0634 EST] -Leaking, and even illegal classified leaking, has been a big problem in Washington for years. Failing @nytimes (and others) must apologize! [0658 EST] -The spotlight has finally been put on the low-life leakers! They will be caught! [0702 EST] -FAKE NEWS media, which makes up stories and “sources,” is far more effective than the discredited Democrats - but they are fading fast! [0910 EST] -The Democrats had to come up with a story as to why they lost the election, and so badly (306), so they made up a story - RUSSIA. Fake news! [0939 EST] -- Source link: (bit.ly/2jBh4LU) (bit.ly/2jpEXYR) '],\n",
       "      dtype=object)"
      ]
     },
     "execution_count": 8,
     "metadata": {},
     "output_type": "execute_result"
    }
   ],
   "source": [
    "time = true['text'].loc[true['text'].str.contains(r'\\d{3,4}\\s?[A-Z]{1,2}[DS]T')]\n",
    "print(len(time))\n",
    "links.sample(1).values"
   ]
  },
  {
   "cell_type": "markdown",
   "metadata": {},
   "source": [
    "<!-- https://stackoverflow.com/questions/54396405/how-can-i-preprocess-nlp-text-lowercase-remove-special-characters-remove-numb -->\n",
    "Pre Process\n",
    "1. Lowercase text\n",
    "2. Remove whitespace\n",
    "3. Remove numbers\n",
    "4. Remove special characters\n",
    "5. Remove emails\n",
    "6. Remove stop words\n",
    "7. Remove NAN\n",
    "8. Remove weblinks\n",
    "9. Expand contractions (if possible not necessary)\n",
    "10. Tokenize\n"
   ]
  },
  {
   "cell_type": "code",
   "execution_count": 9,
   "metadata": {},
   "outputs": [
    {
     "ename": "NameError",
     "evalue": "name 'df' is not defined",
     "output_type": "error",
     "traceback": [
      "\u001b[1;31m---------------------------------------------------------------------------\u001b[0m",
      "\u001b[1;31mNameError\u001b[0m                                 Traceback (most recent call last)",
      "\u001b[1;32m~\\AppData\\Local\\Temp/ipykernel_13080/1153793458.py\u001b[0m in \u001b[0;36m<module>\u001b[1;34m\u001b[0m\n\u001b[0;32m     23\u001b[0m \u001b[1;33m\u001b[0m\u001b[0m\n\u001b[0;32m     24\u001b[0m \u001b[1;33m\u001b[0m\u001b[0m\n\u001b[1;32m---> 25\u001b[1;33m \u001b[0mdf\u001b[0m\u001b[1;33m[\u001b[0m\u001b[1;34m'cleanText'\u001b[0m\u001b[1;33m]\u001b[0m\u001b[1;33m=\u001b[0m\u001b[0mdf\u001b[0m\u001b[1;33m[\u001b[0m\u001b[1;34m'Text'\u001b[0m\u001b[1;33m]\u001b[0m\u001b[1;33m.\u001b[0m\u001b[0mmap\u001b[0m\u001b[1;33m(\u001b[0m\u001b[1;32mlambda\u001b[0m \u001b[0ms\u001b[0m\u001b[1;33m:\u001b[0m\u001b[0mpreprocess\u001b[0m\u001b[1;33m(\u001b[0m\u001b[0ms\u001b[0m\u001b[1;33m)\u001b[0m\u001b[1;33m)\u001b[0m\u001b[1;33m\u001b[0m\u001b[1;33m\u001b[0m\u001b[0m\n\u001b[0m",
      "\u001b[1;31mNameError\u001b[0m: name 'df' is not defined"
     ]
    }
   ],
   "source": [
    "import nltk\n",
    "from nltk.tokenize import RegexpTokenizer\n",
    "from nltk.stem import WordNetLemmatizer,PorterStemmer\n",
    "from nltk.corpus import stopwords\n",
    "import re\n",
    "lemmatizer = WordNetLemmatizer()\n",
    "stemmer = PorterStemmer() \n",
    "\n",
    "def preprocess(sentence):\n",
    "    sentence=str(sentence)\n",
    "    sentence = sentence.lower()\n",
    "    sentence=sentence.replace('{html}',\"\") \n",
    "    cleanr = re.compile('#@<.*?>')\n",
    "    cleantext = re.sub(cleanr, '', sentence)\n",
    "    rem_url=re.sub(r'(http\\S+|bit.ly\\S+)', '', cleantext)\n",
    "    rem_num = re.sub('[0-9]+', '', rem_url)\n",
    "    tokenizer = RegexpTokenizer(r'\\w+')\n",
    "    tokens = tokenizer.tokenize(rem_num)  \n",
    "    filtered_words = [w for w in tokens if len(w) > 2 if not w in stopwords.words('english')]\n",
    "    stem_words=[stemmer.stem(w) for w in filtered_words]\n",
    "    lemma_words=[lemmatizer.lemmatize(w) for w in stem_words]\n",
    "    return \" \".join(filtered_words)\n",
    "\n",
    "\n",
    "# df['cleanText']=df['Text'].map(lambda s:preprocess(s)) "
   ]
  },
  {
   "cell_type": "code",
   "execution_count": null,
   "metadata": {},
   "outputs": [
    {
     "data": {
      "text/plain": [
       "array(['00', '000', '0000', ..., 'zyries', 'zyuganov', 'émigré'],\n",
       "      dtype=object)"
      ]
     },
     "execution_count": 42,
     "metadata": {},
     "output_type": "execute_result"
    }
   ],
   "source": [
    "from sklearn.feature_extraction.text import TfidfVectorizer\n",
    "\n",
    "vectorizer = TfidfVectorizer(stop_words = 'english')\n",
    "X = vectorizer.fit_transform(true['text'])\n",
    "\n",
    "tfidf_tokens = vectorizer.get_feature_names_out()\n",
    "tfidf_tokens"
   ]
  },
  {
   "cell_type": "code",
   "execution_count": null,
   "metadata": {},
   "outputs": [
    {
     "data": {
      "text/plain": [
       "<21417x66361 sparse matrix of type '<class 'numpy.float64'>'\n",
       "\twith 3236653 stored elements in Compressed Sparse Row format>"
      ]
     },
     "execution_count": 38,
     "metadata": {},
     "output_type": "execute_result"
    }
   ],
   "source": [
    "X"
   ]
  },
  {
   "cell_type": "code",
   "execution_count": null,
   "metadata": {},
   "outputs": [
    {
     "name": "stdout",
     "output_type": "stream",
     "text": [
      "0        0.000\n",
      "1        0.245\n",
      "2        0.000\n",
      "3        0.000\n",
      "4        0.165\n",
      "         ...  \n",
      "21412    0.220\n",
      "21413    0.000\n",
      "21414    0.000\n",
      "21415    0.000\n",
      "21416    0.192\n",
      "Name: title, Length: 21417, dtype: float64\n"
     ]
    },
    {
     "data": {
      "text/plain": [
       "0        0.000\n",
       "1        0.000\n",
       "2        0.118\n",
       "3        0.000\n",
       "4        0.000\n",
       "         ...  \n",
       "23476    0.152\n",
       "23477    0.273\n",
       "23478    0.000\n",
       "23479    0.000\n",
       "23480    0.000\n",
       "Name: title, Length: 23481, dtype: float64"
      ]
     },
     "execution_count": 40,
     "metadata": {},
     "output_type": "execute_result"
    }
   ],
   "source": [
    "from nltk.sentiment import SentimentIntensityAnalyzer\n",
    "\n",
    "# Create variable that represents how positive-sounding each title is\n",
    "\n",
    "sia = SentimentIntensityAnalyzer()\n",
    "true_sentimentscores = true['title'].apply(lambda x: sia.polarity_scores(x)['pos'])\n",
    "fake_sentimentscores = fake['title'].apply(lambda x: sia.polarity_scores(x)['pos'])\n",
    "print(true_sentimentscores)\n",
    "fake_sentimentscores\n"
   ]
  },
  {
   "cell_type": "markdown",
   "metadata": {},
   "source": [
    "Create Feature: number of named entities?"
   ]
  },
  {
   "cell_type": "code",
   "execution_count": 40,
   "metadata": {},
   "outputs": [
    {
     "name": "stdout",
     "output_type": "stream",
     "text": [
      "[('NOUAKCHOTT', 'ORG'), ('Mauritania', 'GPE'), ('Reuters', 'ORG'), ('France', 'GPE'), ('Friday', 'DATE'), ('the United States', 'GPE'), ('U.S.', 'GPE'), ('Syrian', 'NORP'), ('Russia', 'GPE'), ('Syrian', 'NORP'), ('France', 'GPE'), ('Bashar al-Assad', 'PERSON'), ('this week', 'DATE'), ('Assad', 'PERSON'), ('U.S.', 'GPE'), ('Donald Trump', 'PERSON'), ('The United States', 'GPE'), ('the last few days', 'DATE'), ('Jean-Marc Ayrault', 'PERSON'), ('Reuters', 'ORG'), ('France Info', 'ORG'), ('Mauritanian', 'NORP'), ('Nouakchott', 'PERSON'), ('Paris', 'GPE'), ('Francois Hollande', 'PERSON'), ('French', 'NORP'), ('U.S.', 'GPE'), ('France', 'GPE'), ('U.S.', 'GPE'), ('2013', 'DATE'), ('Assad', 'PERSON'), ('Germany', 'GPE'), ('Elysee', 'GPE'), ('Angela Merkel', 'PERSON'), ('France', 'GPE'), ('Germany', 'GPE'), ('the United Nations', 'ORG'), ('U.S.', 'GPE'), ('Syria', 'GPE'), ('earlier this week', 'DATE'), ('at least 70', 'CARDINAL'), ('Ayrault', 'PERSON'), ('U.S.', 'GPE'), ('State', 'ORG'), ('Rex Tillerson', 'PERSON'), ('Washington', 'GPE'), ('U.S.', 'GPE'), ('Syria', 'GPE'), ('two', 'CARDINAL'), ('U.S.', 'GPE'), ('dozens', 'CARDINAL'), ('Assad', 'PERSON'), ('France', 'GPE'), ('NATO', 'ORG'), ('Washington', 'GPE'), ('Syria', 'GPE'), ('Barack Obama', 'PERSON'), ('Assad', 'PERSON'), ('2013', 'DATE'), ('hundreds', 'CARDINAL'), ('French', 'NORP'), ('Assad', 'PERSON'), ('Ayrault', 'PERSON'), ('Ayrault', 'PERSON'), ('Paris', 'GPE'), ('Syria', 'GPE'), ('Islamic State', 'ORG'), ('Assad', 'PERSON'), ('its seventh year', 'DATE'), ('more than 400,000', 'CARDINAL'), ('millions', 'CARDINAL'), ('Russia', 'GPE'), ('Iran', 'GPE'), ('Assad', 'PERSON'), ('Moscow', 'GPE'), ('UN Security Council', 'ORG'), ('Bashar al-Assad', 'PERSON'), ('Russians', 'NORP'), ('UN', 'ORG')]\n",
      "Number of Name Entities: 79\n",
      "Number of ORG: 10\n"
     ]
    }
   ],
   "source": [
    "import spacy\n",
    "\n",
    "sampletruetext = [i for i in true['text'].sample(1)][0]\n",
    "samplefaketext = [i for i in fake['text'].sample(1)][0]\n",
    "\n",
    "nlp = spacy.load('en_core_web_lg')\n",
    "doc = nlp(sampletruetext)\n",
    "\n",
    "ne = [(ent.text, ent.label_) for ent in doc.ents]\n",
    "print(ne)\n",
    "print(\"Number of Name Entities: \" + str(len(doc.ents)))\n",
    "print(\"Number of ORG: \" + str(len([ent for ent in doc.ents if ent.label_ == 'ORG'])))"
   ]
  },
  {
   "cell_type": "markdown",
   "metadata": {},
   "source": [
    "Create Feature: number of adjectives?"
   ]
  },
  {
   "cell_type": "code",
   "execution_count": 41,
   "metadata": {},
   "outputs": [
    {
     "name": "stdout",
     "output_type": "stream",
     "text": [
      "[('NOUAKCHOTT', 'PROPN'), (',', 'PUNCT'), ('Mauritania', 'PROPN'), ('(', 'PUNCT'), ('Reuters', 'PROPN'), (')', 'PUNCT'), ('-', 'PUNCT'), ('France', 'PROPN'), ('said', 'VERB'), ('on', 'ADP'), ('Friday', 'PROPN'), ('it', 'PRON'), ('had', 'AUX'), ('been', 'AUX'), ('informed', 'VERB'), ('by', 'ADP'), ('the', 'DET'), ('United', 'PROPN'), ('States', 'PROPN'), ('before', 'ADP'), ('the', 'DET'), ('U.S.', 'PROPN'), ('military', 'ADJ'), ('strikes', 'NOUN'), ('on', 'ADP'), ('Syrian', 'ADJ'), ('military', 'ADJ'), ('positions', 'NOUN'), ('and', 'CCONJ'), ('that', 'SCONJ'), ('Russia', 'PROPN'), ('should', 'AUX'), ('use', 'VERB'), ('this', 'DET'), ('“', 'PUNCT'), ('warning', 'NOUN'), ('”', 'PUNCT'), ('to', 'PART'), ('push', 'VERB'), ('for', 'ADP'), ('a', 'DET'), ('political', 'ADJ'), ('solution', 'NOUN'), ('to', 'ADP'), ('the', 'DET'), ('Syrian', 'ADJ'), ('conflict', 'NOUN'), ('.', 'PUNCT'), ('France', 'PROPN'), (',', 'PUNCT'), ('a', 'DET'), ('key', 'ADJ'), ('backer', 'NOUN'), ('of', 'ADP'), ('rebels', 'NOUN'), ('opposed', 'VERB'), ('to', 'ADP'), ('President', 'PROPN'), ('Bashar', 'PROPN'), ('al', 'PROPN'), ('-', 'PUNCT'), ('Assad', 'PROPN'), (',', 'PUNCT'), ('has', 'AUX'), ('repeatedly', 'ADV'), ('called', 'VERB'), ('on', 'ADP'), ('him', 'PRON'), ('to', 'PART'), ('step', 'VERB'), ('down', 'ADP'), ('and', 'CCONJ'), ('this', 'DET'), ('week', 'NOUN'), ('said', 'VERB'), ('a', 'DET'), ('suspected', 'VERB'), ('chemical', 'NOUN'), ('attack', 'NOUN'), ('by', 'ADP'), ('Assad', 'PROPN'), ('’s', 'PART'), ('forces', 'NOUN'), ('was', 'AUX'), ('a', 'DET'), ('test', 'NOUN'), ('for', 'ADP'), ('U.S.', 'PROPN'), ('President', 'PROPN'), ('Donald', 'PROPN'), ('Trump', 'PROPN'), ('.', 'PUNCT'), ('“', 'PUNCT'), ('The', 'DET'), ('United', 'PROPN'), ('States', 'PROPN'), ('has', 'AUX'), ('started', 'VERB'), ('clarifying', 'VERB'), ('its', 'PRON'), ('position', 'NOUN'), ('because', 'SCONJ'), ('over', 'ADP'), ('the', 'DET'), ('last', 'ADJ'), ('few', 'ADJ'), ('days', 'NOUN'), ('we', 'PRON'), ('heard', 'VERB'), ('one', 'NUM'), ('thing', 'NOUN'), ('and', 'CCONJ'), ('then', 'ADV'), ('another', 'PRON'), (',', 'PUNCT'), ('”', 'PUNCT'), ('Foreign', 'PROPN'), ('Minister', 'PROPN'), ('Jean', 'PROPN'), ('-', 'PUNCT'), ('Marc', 'PROPN'), ('Ayrault', 'PROPN'), ('told', 'VERB'), ('Reuters', 'PROPN'), ('and', 'CCONJ'), ('France', 'PROPN'), ('Info', 'PROPN'), ('radio', 'NOUN'), ('in', 'ADP'), ('the', 'DET'), ('Mauritanian', 'ADJ'), ('capital', 'NOUN'), (',', 'PUNCT'), ('Nouakchott', 'PROPN'), (',', 'PUNCT'), ('where', 'SCONJ'), ('he', 'PRON'), ('was', 'AUX'), ('on', 'ADP'), ('a', 'DET'), ('diplomatic', 'ADJ'), ('visit', 'NOUN'), ('.', 'PUNCT'), ('“', 'PUNCT'), ('Here', 'ADV'), (',', 'PUNCT'), ('we', 'PRON'), ('have', 'VERB'), ('an', 'DET'), ('action', 'NOUN'), ('that', 'PRON'), ('is', 'AUX'), ('a', 'DET'), ('sort', 'NOUN'), ('of', 'ADP'), ('condemnation', 'NOUN'), (',', 'PUNCT'), ('through', 'ADP'), ('military', 'ADJ'), ('strikes', 'NOUN'), ('on', 'ADP'), ('a', 'DET'), ('military', 'ADJ'), ('base', 'NOUN'), (',', 'PUNCT'), ('of', 'ADP'), ('what', 'PRON'), ('this', 'DET'), ('criminal', 'ADJ'), ('regime', 'NOUN'), ('is', 'AUX'), ('doing', 'VERB'), ('.', 'PUNCT'), ('”', 'PUNCT'), ('In', 'ADP'), ('Paris', 'PROPN'), (',', 'PUNCT'), ('President', 'PROPN'), ('Francois', 'PROPN'), ('Hollande', 'PROPN'), ('confirmed', 'VERB'), ('French', 'ADJ'), ('backing', 'NOUN'), ('for', 'ADP'), ('the', 'DET'), ('U.S.', 'PROPN'), ('action', 'NOUN'), (',', 'PUNCT'), ('saying', 'VERB'), ('France', 'PROPN'), ('had', 'AUX'), ('been', 'AUX'), ('seeking', 'VERB'), ('U.S.', 'PROPN'), ('missile', 'NOUN'), ('strikes', 'NOUN'), ('in', 'ADP'), ('2013', 'NUM'), ('after', 'ADP'), ('a', 'DET'), ('previous', 'ADJ'), ('chemical', 'NOUN'), ('attack', 'NOUN'), ('.', 'PUNCT'), ('Assad', 'PROPN'), ('bore', 'VERB'), ('“', 'PUNCT'), ('full', 'ADJ'), ('responsibility', 'NOUN'), ('for', 'ADP'), ('this', 'DET'), ('development', 'NOUN'), (',', 'PUNCT'), ('”', 'PUNCT'), ('Hollande', 'PROPN'), ('said', 'VERB'), ('in', 'ADP'), ('a', 'DET'), ('joint', 'ADJ'), ('statement', 'NOUN'), ('with', 'ADP'), ('Germany', 'PROPN'), ('from', 'ADP'), ('the', 'DET'), ('Elysee', 'PROPN'), ('after', 'ADP'), ('speaking', 'VERB'), ('with', 'ADP'), ('Chancellor', 'PROPN'), ('Angela', 'PROPN'), ('Merkel', 'PROPN'), ('.', 'PUNCT'), ('He', 'PRON'), ('said', 'VERB'), ('France', 'PROPN'), ('and', 'CCONJ'), ('Germany', 'PROPN'), ('would', 'AUX'), ('continue', 'VERB'), ('efforts', 'NOUN'), ('through', 'ADP'), ('the', 'DET'), ('United', 'PROPN'), ('Nations', 'PROPN'), ('to', 'PART'), ('achieve', 'VERB'), ('the', 'DET'), ('best', 'ADJ'), ('response', 'NOUN'), ('to', 'ADP'), ('chemical', 'NOUN'), ('attacks', 'NOUN'), ('.', 'PUNCT'), (' ', 'SPACE'), ('The', 'DET'), ('U.S.', 'PROPN'), ('missile', 'NOUN'), ('strikes', 'NOUN'), ('came', 'VERB'), ('in', 'ADP'), ('response', 'NOUN'), ('to', 'ADP'), ('a', 'DET'), ('suspected', 'VERB'), ('chemical', 'ADJ'), ('weapons', 'NOUN'), ('attack', 'NOUN'), ('on', 'ADP'), ('a', 'DET'), ('rebel', 'NOUN'), ('-', 'PUNCT'), ('held', 'VERB'), ('town', 'NOUN'), ('in', 'ADP'), ('northern', 'ADJ'), ('Syria', 'PROPN'), ('earlier', 'ADV'), ('this', 'DET'), ('week', 'NOUN'), ('which', 'PRON'), ('killed', 'VERB'), ('at', 'ADV'), ('least', 'ADV'), ('70', 'NUM'), ('people', 'NOUN'), ('.', 'PUNCT'), ('Ayrault', 'PROPN'), (',', 'PUNCT'), ('who', 'PRON'), ('was', 'AUX'), ('informed', 'VERB'), ('ahead', 'ADV'), ('of', 'ADP'), ('the', 'DET'), ('strikes', 'NOUN'), ('by', 'ADP'), ('U.S.', 'PROPN'), ('Secretary', 'PROPN'), ('of', 'ADP'), ('State', 'PROPN'), ('Rex', 'PROPN'), ('Tillerson', 'PROPN'), (',', 'PUNCT'), ('said', 'VERB'), ('he', 'PRON'), ('did', 'AUX'), ('not', 'PART'), ('believe', 'VERB'), ('Washington', 'PROPN'), ('wanted', 'VERB'), ('to', 'PART'), ('continue', 'VERB'), ('its', 'PRON'), ('strikes', 'NOUN'), ('and', 'CCONJ'), ('that', 'SCONJ'), ('the', 'DET'), ('escalation', 'NOUN'), ('of', 'ADP'), ('the', 'DET'), ('U.S.', 'PROPN'), ('military', 'ADJ'), ('role', 'NOUN'), ('in', 'ADP'), ('Syria', 'PROPN'), (',', 'PUNCT'), ('in', 'ADP'), ('which', 'PRON'), ('two', 'NUM'), ('U.S.', 'PROPN'), ('warships', 'NOUN'), ('fired', 'VERB'), ('dozens', 'NOUN'), ('of', 'ADP'), ('cruise', 'NOUN'), ('missiles', 'NOUN'), ('at', 'ADP'), ('an', 'DET'), ('Assad', 'PROPN'), ('-', 'PUNCT'), ('controlled', 'VERB'), ('airbase', 'NOUN'), (',', 'PUNCT'), ('was', 'AUX'), ('a', 'DET'), ('“', 'PUNCT'), ('warning', 'NOUN'), ('.', 'PUNCT'), ('”', 'PUNCT'), ('France', 'PROPN'), (',', 'PUNCT'), ('a', 'DET'), ('NATO', 'PROPN'), ('ally', 'NOUN'), (',', 'PUNCT'), ('has', 'AUX'), ('been', 'AUX'), ('a', 'DET'), ('vocal', 'ADJ'), ('critic', 'NOUN'), ('of', 'ADP'), ('Washington', 'PROPN'), ('’s', 'PART'), ('policy', 'NOUN'), ('in', 'ADP'), ('Syria', 'PROPN'), ('since', 'SCONJ'), ('the', 'DET'), ('previous', 'ADJ'), ('administration', 'NOUN'), ('of', 'ADP'), ('Barack', 'PROPN'), ('Obama', 'PROPN'), ('pulled', 'VERB'), ('back', 'ADV'), ('from', 'ADP'), ('launching', 'VERB'), ('strikes', 'NOUN'), ('against', 'ADP'), ('Assad', 'PROPN'), ('following', 'VERB'), ('the', 'DET'), ('2013', 'NUM'), ('chemical', 'NOUN'), ('attack', 'NOUN'), ('that', 'PRON'), ('killed', 'VERB'), ('hundreds', 'NOUN'), ('of', 'ADP'), ('people', 'NOUN'), ('.', 'PUNCT'), ('French', 'ADJ'), ('planes', 'NOUN'), ('had', 'AUX'), ('been', 'AUX'), ('minutes', 'NOUN'), ('away', 'ADV'), ('from', 'ADP'), ('taking', 'VERB'), ('off', 'ADP'), ('when', 'SCONJ'), (' ', 'SPACE'), ('Obama', 'PROPN'), ('backed', 'VERB'), ('down', 'ADP'), ('.', 'PUNCT'), ('“', 'PUNCT'), ('A', 'DET'), ('signal', 'NOUN'), ('was', 'AUX'), ('sent', 'VERB'), (',', 'PUNCT'), ('because', 'SCONJ'), ('yet', 'ADV'), ('again', 'ADV'), ('a', 'DET'), ('red', 'ADJ'), ('line', 'NOUN'), ('was', 'AUX'), ('crossed', 'VERB'), ('by', 'ADP'), ('Assad', 'PROPN'), (',', 'PUNCT'), ('”', 'PUNCT'), ('Ayrault', 'PROPN'), ('said', 'VERB'), ('.', 'PUNCT'), ('“', 'PUNCT'), ('The', 'DET'), ('use', 'NOUN'), ('of', 'ADP'), ('chemical', 'ADJ'), ('weapons', 'NOUN'), ('is', 'AUX'), ('appalling', 'ADJ'), ('and', 'CCONJ'), ('should', 'AUX'), ('be', 'AUX'), ('punished', 'VERB'), ('because', 'SCONJ'), ('it', 'PRON'), ('is', 'AUX'), ('a', 'DET'), ('war', 'NOUN'), ('crime', 'NOUN'), (',', 'PUNCT'), ('”', 'PUNCT'), ('Ayrault', 'PROPN'), ('said', 'VERB'), ('.', 'PUNCT'), ('He', 'PRON'), ('said', 'VERB'), ('Paris', 'PROPN'), ('’s', 'PART'), ('only', 'ADJ'), ('military', 'ADJ'), ('role', 'NOUN'), ('in', 'ADP'), ('Syria', 'PROPN'), ('at', 'ADP'), ('present', 'ADJ'), ('was', 'AUX'), ('its', 'PRON'), ('part', 'NOUN'), ('in', 'ADP'), ('the', 'DET'), ('coalition', 'NOUN'), ('fighting', 'VERB'), ('Islamic', 'PROPN'), ('State', 'PROPN'), ('and', 'CCONJ'), ('that', 'SCONJ'), ('it', 'PRON'), ('had', 'VERB'), ('no', 'DET'), ('intention', 'NOUN'), ('of', 'ADP'), ('entering', 'VERB'), ('the', 'DET'), ('conflict', 'NOUN'), ('between', 'ADP'), ('Assad', 'PROPN'), ('and', 'CCONJ'), ('rebels', 'NOUN'), ('.', 'PUNCT'), ('The', 'DET'), ('conflict', 'NOUN'), ('is', 'AUX'), ('now', 'ADV'), ('in', 'ADP'), ('its', 'PRON'), ('seventh', 'ADJ'), ('year', 'NOUN'), ('and', 'CCONJ'), ('has', 'AUX'), ('killed', 'VERB'), ('more', 'ADJ'), ('than', 'ADP'), ('400,000', 'NUM'), ('people', 'NOUN'), ('and', 'CCONJ'), ('displaced', 'VERB'), ('millions', 'NOUN'), ('.', 'PUNCT'), ('“', 'PUNCT'), ('We', 'PRON'), ('are', 'AUX'), ('not', 'PART'), ('seeking', 'VERB'), ('any', 'DET'), ('confrontation', 'NOUN'), (',', 'PUNCT'), ('but', 'CCONJ'), ('Russia', 'PROPN'), ('and', 'CCONJ'), ('Iran', 'PROPN'), ('must', 'AUX'), ('understand', 'VERB'), ('that', 'SCONJ'), ('backing', 'VERB'), ('the', 'DET'), ('Assad', 'PROPN'), ('regime', 'NOUN'), ('makes', 'VERB'), ('no', 'DET'), ('sense', 'NOUN'), (',', 'PUNCT'), ('”', 'PUNCT'), ('he', 'PRON'), ('said', 'VERB'), (',', 'PUNCT'), ('urging', 'VERB'), ('Moscow', 'PROPN'), ('to', 'PART'), ('now', 'ADV'), ('fully', 'ADV'), ('back', 'VERB'), ('a', 'DET'), ('UN', 'PROPN'), ('Security', 'PROPN'), ('Council', 'PROPN'), ('resolution', 'NOUN'), ('that', 'PRON'), ('sets', 'VERB'), ('out', 'ADP'), ('the', 'DET'), ('path', 'NOUN'), ('for', 'ADP'), ('a', 'DET'), ('transition', 'NOUN'), ('to', 'ADP'), ('peace', 'NOUN'), ('in', 'ADP'), ('the', 'DET'), ('country', 'NOUN'), ('.', 'PUNCT'), (' ', 'SPACE'), ('“', 'PUNCT'), ('Peace', 'NOUN'), ('negotiations', 'NOUN'), ('(', 'PUNCT'), ('are', 'AUX'), ('going', 'VERB'), ('on', 'ADP'), (')', 'PUNCT'), ('for', 'ADP'), ('a', 'DET'), ('political', 'ADJ'), ('transition', 'NOUN'), (',', 'PUNCT'), ('to', 'PART'), ('rebuild', 'VERB'), ('the', 'DET'), ('country', 'NOUN'), ('and', 'CCONJ'), ('enable', 'VERB'), ('the', 'DET'), ('return', 'NOUN'), ('of', 'ADP'), ('refugees', 'NOUN'), ('and', 'CCONJ'), ('that', 'PRON'), ('will', 'AUX'), ('not', 'PART'), ('happen', 'VERB'), ('with', 'ADP'), ('Bashar', 'PROPN'), ('al', 'PROPN'), ('-', 'PUNCT'), ('Assad', 'PROPN'), (',', 'PUNCT'), ('”', 'PUNCT'), ('he', 'PRON'), ('said', 'VERB'), ('.', 'PUNCT'), ('“', 'PUNCT'), ('I', 'PRON'), ('will', 'AUX'), ('tell', 'VERB'), ('the', 'DET'), ('Russians', 'PROPN'), (':', 'PUNCT'), ('‘', 'PUNCT'), ('Stop', 'VERB'), ('playing', 'VERB'), ('.', 'PUNCT'), ('Stop', 'VERB'), ('hesitating', 'VERB'), ('and', 'CCONJ'), ('pretending', 'VERB'), ('.', 'PUNCT'), ('Play', 'VERB'), ('your', 'PRON'), ('role', 'NOUN'), ('and', 'CCONJ'), ('implement', 'VERB'), ('resolution', 'NOUN'), ('2254’(the', 'DET'), ('UN', 'PROPN'), ('resolution', 'NOUN'), ('that', 'PRON'), ('sets', 'VERB'), ('out', 'ADP'), ('a', 'DET'), ('roadmap', 'NOUN'), ('for', 'ADP'), ('peace', 'NOUN'), ('talks', 'NOUN'), (')', 'PUNCT'), ('”', 'PUNCT'), ('.', 'PUNCT')]\n",
      "Number of ADJ: 33\n"
     ]
    }
   ],
   "source": [
    "pos = [(token.text, token.pos_) for token in doc]\n",
    "print(pos)\n",
    "print(\"Number of ADJ: \" + str(len([token for token in doc if token.pos_ == 'ADJ'])))\n"
   ]
  },
  {
   "cell_type": "markdown",
   "metadata": {},
   "source": [
    "Create Feature: readability?"
   ]
  },
  {
   "cell_type": "code",
   "execution_count": 34,
   "metadata": {},
   "outputs": [
    {
     "name": "stdout",
     "output_type": "stream",
     "text": [
      "43.47853658536589\n",
      "19.326829268292684\n"
     ]
    }
   ],
   "source": [
    "from textatistic import Textatistic\n",
    "\n",
    "readability_scores = Textatistic(sampletext).scores\n",
    "\n",
    "print(readability_scores['flesch_score'])\n",
    "print(readability_scores['gunningfog_score'])\n"
   ]
  }
 ],
 "metadata": {
  "kernelspec": {
   "display_name": "Python 3.8.8 ('base')",
   "language": "python",
   "name": "python3"
  },
  "language_info": {
   "codemirror_mode": {
    "name": "ipython",
    "version": 3
   },
   "file_extension": ".py",
   "mimetype": "text/x-python",
   "name": "python",
   "nbconvert_exporter": "python",
   "pygments_lexer": "ipython3",
   "version": "3.8.8"
  },
  "orig_nbformat": 4,
  "vscode": {
   "interpreter": {
    "hash": "0a68ab044c6ea367198d7b58f0f8352272d5267d2d2c131306c104f6e9ede3d6"
   }
  }
 },
 "nbformat": 4,
 "nbformat_minor": 2
}
